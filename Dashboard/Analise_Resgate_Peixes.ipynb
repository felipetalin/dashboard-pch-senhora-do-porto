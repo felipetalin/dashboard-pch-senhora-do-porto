import streamlit as st
import pandas as pd
import plotly.express as px
import plotly.graph_objects as go
from pathlib import Path
from datetime import datetime
import os

# ==========================================================
# CONFIGURAÇÃO DA PÁGINA
# ==========================================================
st.set_page_config(
    page_title="Dashboard de Resgate - PCH Senhora do Porto",
    page_icon="🐟",
    layout="wide"
)

# Seu token da Mapbox
MAPBOX_TOKEN = "pk.eyJ1IjoiZmVsaXBldGFsaW4iLCJhIjoiY21mZm9pbG42MDhxczJqcHQ2azZhcTNtdCJ9.Ej4EtF8HH10mZraWnBC_mg"

# Define os caminhos principais de forma robusta
BASE_DIR = Path(__file__).resolve().parent
PLANILHA_PATH = BASE_DIR.parent / "Dados-brutos-Resgate-Guanhães_2025.xlsx"
FOTOS_DIR = BASE_DIR.parent / "fotos_atividades"


# ==========================================================
# FUNÇÃO DE CARREGAMENTO DE DADOS (COM CACHE PARA VELOCIDADE)
# ==========================================================
@st.cache_data
def carregar_dados_mestre():
    try:
        df = pd.read_excel(PLANILHA_PATH, sheet_name='dados_brutos')
        
        df['Data'] = pd.to_datetime(df['Data'], dayfirst=True, errors='coerce')
        df.dropna(subset=['Data'], inplace=True)
        cols_numericas = ['N°_Individuos', 'Biomassa_(g)']
        for col in cols_numericas:
            df[col] = pd.to_numeric(df[col], errors='coerce')
        df[cols_numericas] = df[cols_numericas].fillna(0)
        
        # Garante que colunas de texto não tenham valores nulos para evitar erros nos filtros
        for col in ['Resgate', 'Espécie', 'Destino', 'Distribuição']:
            df[col] = df[col].fillna('Não especificado').astype(str)
            
        return df
    except Exception as e:
        st.error(f"Erro ao carregar o arquivo Excel: {e}")
        return pd.DataFrame()

df_master = carregar_dados_mestre()

if df_master.empty:
    st.error("Falha ao carregar dados. Verifique o caminho da planilha ou se ela contém dados.")
    st.stop()


# ==========================================================
# BARRA LATERAL (SIDEBAR) - CONTROLES DE FILTRO
# ==========================================================
st.sidebar.header("Filtros do Relatório")

# --- Filtro de Data ---
data_max_dados = df_master['Data'].max().date()
data_selecionada = st.sidebar.date_input(
    "Selecione a Data do Relatório:",
    value=data_max_dados,
    min_value=df_master['Data'].min().date(),
    max_value=data_max_dados
)

# --- Filtro de Fase de Resgate ---
fases_disponiveis = df_master['Resgate'].unique()
fase_selecionada = st.sidebar.multiselect(
    "Selecione a(s) Fase(s) do Resgate:",
    options=fases_disponiveis,
    default=fases_disponiveis # Por padrão, seleciona todas as fases
)

# Aplica filtros para criar os dataframes que serão usados no dashboard
data_selecionada_dt = pd.to_datetime(data_selecionada)

# DataFrame Mestre Filtrado (considera a seleção de fases)
df_master_filtrado = df_master[df_master['Resgate'].isin(fase_selecionada)]

df_dia = df_master_filtrado[df_master_filtrado['Data'] == data_selecionada_dt]
df_acumulado = df_master_filtrado[df_master_filtrado['Data'] <= data_selecionada_dt]


# ==========================================================
# SEÇÃO 1: RELATÓRIO DO DIA
# ==========================================================
st.title("🐟 Dashboard de Resgate - PCH Senhora do Porto")
st.markdown(f"## Relatório do Dia: {data_selecionada.strftime('%d/%m/%Y')}")

if df_dia.empty:
    st.warning("Nenhuma atividade registrada para esta data com os filtros selecionados.")
else:
    # --- KPIs do Dia ---
    total_dia = int(df_dia['N°_Individuos'].sum())
    vivos_dia = int(df_dia[df_dia['Destino'] == 'Vivo']['N°_Individuos'].sum())
    taxa_sobrevivencia_dia = (vivos_dia / total_dia * 100) if total_dia > 0 else 0

    col1, col2, col3 = st.columns(3)
    col1.metric("Total Indivíduos Manejados", f"{total_dia}")
    col2.metric("Indivíduos Vivos", f"{vivos_dia}")
    col3.metric("Taxa de Sobrevivência", f"{taxa_sobrevivencia_dia:.1f}%")

    st.markdown("---")

    # --- Gráficos do Dia (lado a lado) ---
    col_graf_dia1, col_graf_dia2 = st.columns(2)
    
    with col_graf_dia1:
        st.subheader("Proporção por Destino (Dia)")
        df_destino_dia = df_dia.groupby('Destino')['N°_Individuos'].sum().reset_index()
        fig_pie_dia = px.pie(
            df_destino_dia, values='N°_Individuos', names='Destino', color='Destino',
            color_discrete_map={'Vivo': 'royalblue', 'Eutanasiado/Recolhido': 'darkred', 'Não especificado': 'grey'}
        )
        st.plotly_chart(fig_pie_dia, use_container_width=True)

    with col_graf_dia2:
        st.subheader("Nativos vs. Exóticos (Dia)")
        df_dist_dia = df_dia.groupby('Distribuição')['N°_Individuos'].sum().reset_index()
        fig_dist_dia = px.bar(
            df_dist_dia, x='Distribuição', y='N°_Individuos', text_auto=True, color='Distribuição',
            color_discrete_map={'Nativo': 'green', 'Exótico': 'orange', 'Não especificado': 'grey'}
        )
        st.plotly_chart(fig_dist_dia, use_container_width=True)
    
    # --- Gráfico de Espécies do Dia ---
    especies_dia = df_dia.groupby('Espécie')['N°_Individuos'].sum().nlargest(5).sort_values()
    if not especies_dia.empty:
        fig_especies_dia = px.bar(
            especies_dia, y=especies_dia.index, x='N°_Individuos', orientation='h',
            title=f"<b>Top 5 Espécies em {data_selecionada.strftime('%d/%m/%Y')}</b>", text_auto=True
        )
        st.plotly_chart(fig_especies_dia, use_container_width=True)

    # --- Galeria de Fotos Dinâmica ---
    st.subheader("Registros Fotográficos do Dia")
    data_str_pasta = data_selecionada.strftime('%Y-%m-%d')
    pasta_fotos_dia = FOTOS_DIR / data_str_pasta
    imagens_encontradas = list(pasta_fotos_dia.glob("*.jpg")) + list(pasta_fotos_dia.glob("*.png")) + list(pasta_fotos_dia.glob("*.jpeg"))
    if not imagens_encontradas:
        st.info("Nenhum registro fotográfico encontrado na pasta desta data.")
    else:
        num_fotos = len(imagens_encontradas)
        cols_fotos = st.columns(num_fotos)
        for i, img_path in enumerate(imagens_encontradas):
            with cols_fotos[i]:
                st.image(str(img_path), caption=os.path.basename(img_path), use_column_width=True)


# ==========================================================
# SEÇÃO 2: VISÃO GERAL ACUMULADA
# ==========================================================
st.markdown("---")
st.markdown(f"## Visão Geral Acumulada (Até {data_selecionada.strftime('%d/%m/%Y')})")

if df_acumulado.empty:
    st.info("Nenhum dado acumulado para exibir com os filtros selecionados.")
else:
    # --- KPIs Acumulados ---
    total_acumulado = int(df_acumulado['N°_Individuos'].sum())
    vivos_acumulado = int(df_acumulado[df_acumulado['Destino'] == 'Vivo']['N°_Individuos'].sum())
    taxa_sobrevivencia_acumulada = (vivos_acumulado / total_acumulado * 100) if total_acumulado > 0 else 0

    col_ac1, col_ac2, col_ac3 = st.columns(3)
    col_ac1.metric("Total de Indivíduos no Projeto", f"{total_acumulado}")
    col_ac2.metric("Nº de Espécies Distintas", f"{df_acumulado['Espécie'].nunique()}")
    col_ac3.metric("Taxa de Sobrevivência Geral", f"{taxa_sobrevivencia_acumulada:.1f}%")

    st.markdown("<br>", unsafe_allow_html=True)
    
    # --- Gráficos Acumulados (em colunas) ---
    col_graf_ac1, col_graf_ac2 = st.columns(2)
    with col_graf_ac1:
        df_temporal = df_acumulado.groupby(df_acumulado['Data'].dt.date)['N°_Individuos'].sum().reset_index()
        fig_temporal = px.line(
            df_temporal, x='Data', y='N°_Individuos', title="<b>Resgates ao Longo do Tempo</b>", markers=True
        )
        st.plotly_chart(fig_temporal, use_container_width=True)

    with col_graf_ac2:
        top_10_geral = df_acumulado.groupby('Espécie')['N°_Individuos'].sum().nlargest(10).sort_values()
        fig_top10 = px.bar(
            top_10_geral, y=top_10_geral.index, x='N°_Individuos', orientation='h',
            title="<b>Top 10 Espécies no Projeto</b>", text_auto=True
        )
        st.plotly_chart(fig_top10, use_container_width=True)

    # --- Mapa Acumulado ---
    st.subheader("Mapa de Atividades (Pontos Amostrais)")
    df_coords = df_acumulado.copy()
    df_coords['Latitude_num'] = pd.to_numeric(df_coords['Latitude'].astype(str).str.replace('°', ''), errors='coerce')
    df_coords['Longitude_num'] = pd.to_numeric(df_coords['Longitude'].astype(str).str.replace('°', ''), errors='coerce')
    df_mapa = df_coords.groupby(['Ponto_Amostral', 'Latitude_num', 'Longitude_num'])['N°_Individuos'].sum().reset_index()
    df_mapa.dropna(subset=['Latitude_num', 'Longitude_num'], inplace=True)

    if not df_mapa.empty:
        center_lat = df_mapa['Latitude_num'].mean()
        center_lon = df_mapa['Longitude_num'].mean()
        
        fig_mapa = go.Figure(go.Scattermapbox(
            lat=df_mapa['Latitude_num'], lon=df_mapa['Longitude_num'], mode='markers',
            marker=go.scattermapbox.Marker(
                size=df_mapa['N°_Individuos'], sizemin=5, color=df_mapa['N°_Individuos'],
                colorscale="Viridis", showscale=True, sizemode='area',
            ),
            text=df_mapa.apply(lambda row: f"<b>{row['Ponto_Amostral']}</b><br>Indivíduos: {row['N°_Individuos']}", axis=1),
            hoverinfo='text'
        ))
        fig_mapa.update_layout(
            hovermode='closest',
            mapbox=dict(accesstoken=MAPBOX_TOKEN, style='satellite-streets',
                        center=go.layout.mapbox.Center(lat=center_lat, lon=center_lon), zoom=15),
            margin={"r":0,"t":40,"l":0,"b":0}
        )
        st.plotly_chart(fig_mapa, use_container_width=True)
    else:
        st.warning("Nenhum dado de coordenada encontrado com os filtros selecionados.")